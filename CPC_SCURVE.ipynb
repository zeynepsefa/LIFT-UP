{
 "cells": [
  {
   "cell_type": "code",
   "execution_count": null,
   "id": "c8f585a4-5eb5-49d6-8eeb-7b91730b4101",
   "metadata": {},
   "outputs": [],
   "source": [
    "import pandas as pd\n",
    "import numpy as np\n",
    "import matplotlib.pyplot as plt\n",
    "from scipy.optimize import curve_fit\n",
    "\n",
    "df = pd.read_excel(r\"C:\\Users\\Semanur\\Downloads\\20240130062437674.XLSX\", usecols=[\"Title\", \"Claims\", \"Application Date\", \"CPC\"])\n",
    "\n",
    "df['Application Date'] = pd.to_datetime(df['Application Date'], errors='coerce')\n",
    "\n",
    "df['Year'] = df['Application Date'].dt.year\n",
    "cpc_code = input(\"Lütfen CPC kodunu girin: \")\n",
    "\n",
    "filtered_df = df[df['CPC'].str.contains(cpc_code, na=False, case=False)]\n",
    "\n",
    "filtered_yearly_counts = filtered_df.groupby('Year').size().reset_index(name='Patent Count')\n",
    "filtered_yearly_counts['Cumulative Patents'] = filtered_yearly_counts['Patent Count'].cumsum()\n",
    "\n",
    "print(f\"CPC kodu '{cpc_code}' için yıl bazında patent sayıları:\")\n",
    "print(filtered_yearly_counts)\n",
    "\n",
    "years = np.array(filtered_yearly_counts['Year'])\n",
    "cumulative = np.array(filtered_yearly_counts['Cumulative Patents'])\n",
    "\n",
    "# S CURVE\n",
    "def logistic_growth(x, L, k, x0):\n",
    "    return L / (1 + np.exp(-k * (x - x0)))\n",
    "\n",
    "popt, pcov = curve_fit(logistic_growth, years, cumulative, bounds=([0, 0, min(years)], [max(cumulative)*1.5, 1, max(years)+50]))\n",
    "\n",
    "x_fit = np.linspace(min(years), max(years)+50, 1000)\n",
    "y_fit = logistic_growth(x_fit, *popt)\n",
    "\n",
    "plt.scatter(years, cumulative, label='Veri')\n",
    "plt.plot(x_fit, y_fit, label='Lojistik büyüme tahmini', color='red')\n",
    "plt.xlabel('Yıl')\n",
    "plt.ylabel('Kümülatif Patent Sayısı')\n",
    "plt.legend()\n",
    "plt.show()\n",
    "\n",
    "print(\"L =\", popt[0])\n",
    "print(\"k =\", popt[1])\n",
    "print(\"x0 =\", popt[2])"
   ]
  }
 ],
 "metadata": {
  "kernelspec": {
   "display_name": "Python 3 (ipykernel)",
   "language": "python",
   "name": "python3"
  },
  "language_info": {
   "codemirror_mode": {
    "name": "ipython",
    "version": 3
   },
   "file_extension": ".py",
   "mimetype": "text/x-python",
   "name": "python",
   "nbconvert_exporter": "python",
   "pygments_lexer": "ipython3",
   "version": "3.11.7"
  }
 },
 "nbformat": 4,
 "nbformat_minor": 5
}
